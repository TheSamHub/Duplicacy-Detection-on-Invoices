{
  "nbformat": 4,
  "nbformat_minor": 0,
  "metadata": {
    "colab": {
      "name": "Duplicacy Detection",
      "provenance": [],
      "collapsed_sections": [],
      "include_colab_link": true
    },
    "kernelspec": {
      "name": "python3",
      "display_name": "Python 3"
    }
  },
  "cells": [
    {
      "cell_type": "markdown",
      "metadata": {
        "id": "view-in-github",
        "colab_type": "text"
      },
      "source": [
        "<a href=\"https://colab.research.google.com/github/TheSamHub/Duplicacy-Detection-on-Invoices/blob/main/Duplicacy_Detection.ipynb\" target=\"_parent\"><img src=\"https://colab.research.google.com/assets/colab-badge.svg\" alt=\"Open In Colab\"/></a>"
      ]
    },
    {
      "cell_type": "code",
      "metadata": {
        "id": "gTAV0_OHbEyL"
      },
      "source": [
        "# install and import various libraries to perform the ocr and get the organisation name from all the bills\r\n",
        "##LATER Comment ::-- # although some installations weren't required as API did multiple tasks"
      ],
      "execution_count": null,
      "outputs": []
    },
    {
      "cell_type": "code",
      "metadata": {
        "id": "kZE5x57mCm11"
      },
      "source": [
        ""
      ],
      "execution_count": null,
      "outputs": []
    },
    {
      "cell_type": "code",
      "metadata": {
        "colab": {
          "base_uri": "https://localhost:8080/"
        },
        "id": "DHNlec4bbwf4",
        "outputId": "34312ade-55da-4590-80c1-8deaac8230eb"
      },
      "source": [
        "!sudo apt install tesseract-ocr"
      ],
      "execution_count": null,
      "outputs": [
        {
          "output_type": "stream",
          "text": [
            "Reading package lists... Done\n",
            "Building dependency tree       \n",
            "Reading state information... Done\n",
            "The following additional packages will be installed:\n",
            "  tesseract-ocr-eng tesseract-ocr-osd\n",
            "The following NEW packages will be installed:\n",
            "  tesseract-ocr tesseract-ocr-eng tesseract-ocr-osd\n",
            "0 upgraded, 3 newly installed, 0 to remove and 15 not upgraded.\n",
            "Need to get 4,795 kB of archives.\n",
            "After this operation, 15.8 MB of additional disk space will be used.\n",
            "Get:1 http://archive.ubuntu.com/ubuntu bionic/universe amd64 tesseract-ocr-eng all 4.00~git24-0e00fe6-1.2 [1,588 kB]\n",
            "Get:2 http://archive.ubuntu.com/ubuntu bionic/universe amd64 tesseract-ocr-osd all 4.00~git24-0e00fe6-1.2 [2,989 kB]\n",
            "Get:3 http://archive.ubuntu.com/ubuntu bionic/universe amd64 tesseract-ocr amd64 4.00~git2288-10f4998a-2 [218 kB]\n",
            "Fetched 4,795 kB in 1s (4,546 kB/s)\n",
            "debconf: unable to initialize frontend: Dialog\n",
            "debconf: (No usable dialog-like program is installed, so the dialog based frontend cannot be used. at /usr/share/perl5/Debconf/FrontEnd/Dialog.pm line 76, <> line 3.)\n",
            "debconf: falling back to frontend: Readline\n",
            "debconf: unable to initialize frontend: Readline\n",
            "debconf: (This frontend requires a controlling tty.)\n",
            "debconf: falling back to frontend: Teletype\n",
            "dpkg-preconfigure: unable to re-open stdin: \n",
            "Selecting previously unselected package tesseract-ocr-eng.\n",
            "(Reading database ... 145480 files and directories currently installed.)\n",
            "Preparing to unpack .../tesseract-ocr-eng_4.00~git24-0e00fe6-1.2_all.deb ...\n",
            "Unpacking tesseract-ocr-eng (4.00~git24-0e00fe6-1.2) ...\n",
            "Selecting previously unselected package tesseract-ocr-osd.\n",
            "Preparing to unpack .../tesseract-ocr-osd_4.00~git24-0e00fe6-1.2_all.deb ...\n",
            "Unpacking tesseract-ocr-osd (4.00~git24-0e00fe6-1.2) ...\n",
            "Selecting previously unselected package tesseract-ocr.\n",
            "Preparing to unpack .../tesseract-ocr_4.00~git2288-10f4998a-2_amd64.deb ...\n",
            "Unpacking tesseract-ocr (4.00~git2288-10f4998a-2) ...\n",
            "Setting up tesseract-ocr-osd (4.00~git24-0e00fe6-1.2) ...\n",
            "Setting up tesseract-ocr-eng (4.00~git24-0e00fe6-1.2) ...\n",
            "Setting up tesseract-ocr (4.00~git2288-10f4998a-2) ...\n",
            "Processing triggers for man-db (2.8.3-2ubuntu0.1) ...\n"
          ],
          "name": "stdout"
        }
      ]
    },
    {
      "cell_type": "code",
      "metadata": {
        "colab": {
          "base_uri": "https://localhost:8080/"
        },
        "id": "2O9d27mCbkM6",
        "outputId": "048ae8db-5049-4a40-a065-ce2939d8076f"
      },
      "source": [
        "!pip install pytesseract"
      ],
      "execution_count": null,
      "outputs": [
        {
          "output_type": "stream",
          "text": [
            "Collecting pytesseract\n",
            "  Downloading https://files.pythonhosted.org/packages/a0/e6/a4e9fc8a93c1318540e8de6d8d4beb5749b7960388a7c7f27799fc2dd016/pytesseract-0.3.7.tar.gz\n",
            "Requirement already satisfied: Pillow in /usr/local/lib/python3.6/dist-packages (from pytesseract) (7.0.0)\n",
            "Building wheels for collected packages: pytesseract\n",
            "  Building wheel for pytesseract (setup.py) ... \u001b[?25l\u001b[?25hdone\n",
            "  Created wheel for pytesseract: filename=pytesseract-0.3.7-py2.py3-none-any.whl size=13945 sha256=9b2d0c1f2f6efd944d5c95e5b3c8452cba852c99085263d450a65ae325bd8a81\n",
            "  Stored in directory: /root/.cache/pip/wheels/81/20/7e/1dd0daad1575d5260916bb1e9781246430647adaef4b3ca3b3\n",
            "Successfully built pytesseract\n",
            "Installing collected packages: pytesseract\n",
            "Successfully installed pytesseract-0.3.7\n"
          ],
          "name": "stdout"
        }
      ]
    },
    {
      "cell_type": "code",
      "metadata": {
        "colab": {
          "base_uri": "https://localhost:8080/"
        },
        "id": "tbZ6bEUEboPE",
        "outputId": "eba324ff-8d5c-49d8-81ed-d7c7be690594"
      },
      "source": [
        "!apt-get install poppler-utils"
      ],
      "execution_count": null,
      "outputs": [
        {
          "output_type": "stream",
          "text": [
            "Reading package lists... Done\n",
            "Building dependency tree       \n",
            "Reading state information... Done\n",
            "The following NEW packages will be installed:\n",
            "  poppler-utils\n",
            "0 upgraded, 1 newly installed, 0 to remove and 15 not upgraded.\n",
            "Need to get 154 kB of archives.\n",
            "After this operation, 613 kB of additional disk space will be used.\n",
            "Get:1 http://archive.ubuntu.com/ubuntu bionic-updates/main amd64 poppler-utils amd64 0.62.0-2ubuntu2.12 [154 kB]\n",
            "Fetched 154 kB in 0s (310 kB/s)\n",
            "Selecting previously unselected package poppler-utils.\n",
            "(Reading database ... 145527 files and directories currently installed.)\n",
            "Preparing to unpack .../poppler-utils_0.62.0-2ubuntu2.12_amd64.deb ...\n",
            "Unpacking poppler-utils (0.62.0-2ubuntu2.12) ...\n",
            "Setting up poppler-utils (0.62.0-2ubuntu2.12) ...\n",
            "Processing triggers for man-db (2.8.3-2ubuntu0.1) ...\n"
          ],
          "name": "stdout"
        }
      ]
    },
    {
      "cell_type": "code",
      "metadata": {
        "colab": {
          "base_uri": "https://localhost:8080/"
        },
        "id": "YFYI7OHWbrPY",
        "outputId": "db3b5fb6-dff9-4dd0-a416-fe3c7359a590"
      },
      "source": [
        "pip install pdf2image"
      ],
      "execution_count": null,
      "outputs": [
        {
          "output_type": "stream",
          "text": [
            "Collecting pdf2image\n",
            "  Downloading https://files.pythonhosted.org/packages/03/62/089030fd16ab3e5c245315d63c80b29250b8f9e4579b5a09306eb7e7539c/pdf2image-1.14.0-py3-none-any.whl\n",
            "Requirement already satisfied: pillow in /usr/local/lib/python3.6/dist-packages (from pdf2image) (7.0.0)\n",
            "Installing collected packages: pdf2image\n",
            "Successfully installed pdf2image-1.14.0\n"
          ],
          "name": "stdout"
        }
      ]
    },
    {
      "cell_type": "code",
      "metadata": {
        "id": "kWedzMc-btqj"
      },
      "source": [
        "from pytesseract import image_to_string\r\n",
        "import os \r\n",
        "import glob\r\n",
        "import requests\r\n",
        "from pdf2image import convert_from_path, convert_from_bytes\r\n",
        "from IPython.display import display, Image"
      ],
      "execution_count": null,
      "outputs": []
    },
    {
      "cell_type": "code",
      "metadata": {
        "id": "wfzA7IoEbwmN"
      },
      "source": [
        "# mount it to google drive"
      ],
      "execution_count": null,
      "outputs": []
    },
    {
      "cell_type": "code",
      "metadata": {
        "colab": {
          "base_uri": "https://localhost:8080/"
        },
        "id": "Er7HgRJzby9X",
        "outputId": "1ba2e577-9a7c-433f-f5cf-99a54c734033"
      },
      "source": [
        "from google.colab import drive\r\n",
        "drive.mount('/content/drive')"
      ],
      "execution_count": null,
      "outputs": [
        {
          "output_type": "stream",
          "text": [
            "Mounted at /content/drive\n"
          ],
          "name": "stdout"
        }
      ]
    },
    {
      "cell_type": "code",
      "metadata": {
        "id": "J3DJcejscAgQ"
      },
      "source": [
        "#import glob library to get the paths of all images "
      ],
      "execution_count": null,
      "outputs": []
    },
    {
      "cell_type": "code",
      "metadata": {
        "colab": {
          "base_uri": "https://localhost:8080/"
        },
        "id": "91sgq7elb5ON",
        "outputId": "21bdc682-3d25-4259-9401-af39c9e5dde1"
      },
      "source": [
        "from glob import glob\r\n",
        "filename = glob(r'/content/drive/MyDrive/task3-test（347p)/*.jpg')\r\n",
        "print(filename)"
      ],
      "execution_count": null,
      "outputs": [
        {
          "output_type": "stream",
          "text": [
            "['/content/drive/MyDrive/task3-test（347p)/X00016469670.jpg', '/content/drive/MyDrive/task3-test（347p)/X00016469671.jpg', '/content/drive/MyDrive/task3-test（347p)/X51005200931.jpg', '/content/drive/MyDrive/task3-test（347p)/X51005230605.jpg', '/content/drive/MyDrive/task3-test（347p)/X51005230616.jpg', '/content/drive/MyDrive/task3-test（347p)/X51005361908.jpg', '/content/drive/MyDrive/task3-test（347p)/X51005230621.jpg', '/content/drive/MyDrive/task3-test（347p)/X51005230648.jpg', '/content/drive/MyDrive/task3-test（347p)/X51005230657.jpg', '/content/drive/MyDrive/task3-test（347p)/X51005230659.jpg', '/content/drive/MyDrive/task3-test（347p)/X51005268275.jpg', '/content/drive/MyDrive/task3-test（347p)/X51006414425.jpg', '/content/drive/MyDrive/task3-test（347p)/X51005288570.jpg', '/content/drive/MyDrive/task3-test（347p)/X51005337867.jpg', '/content/drive/MyDrive/task3-test（347p)/X51005337877.jpg', '/content/drive/MyDrive/task3-test（347p)/X51005361906.jpg', '/content/drive/MyDrive/task3-test（347p)/X51006414427.jpg', '/content/drive/MyDrive/task3-test（347p)/X51005361912.jpg', '/content/drive/MyDrive/task3-test（347p)/X51005433518.jpg', '/content/drive/MyDrive/task3-test（347p)/X51005268408.jpg', '/content/drive/MyDrive/task3-test（347p)/X51005301666.jpg', '/content/drive/MyDrive/task3-test（347p)/X51005361923.jpg', '/content/drive/MyDrive/task3-test（347p)/X51006414433.jpg', '/content/drive/MyDrive/task3-test（347p)/X51005365187.jpg', '/content/drive/MyDrive/task3-test（347p)/X51005433543.jpg', '/content/drive/MyDrive/task3-test（347p)/X51005433548.jpg', '/content/drive/MyDrive/task3-test（347p)/X51005433556.jpg', '/content/drive/MyDrive/task3-test（347p)/X51005442322.jpg', '/content/drive/MyDrive/task3-test（347p)/X51005442334.jpg', '/content/drive/MyDrive/task3-test（347p)/X51006414512.jpg', '/content/drive/MyDrive/task3-test（347p)/X51005442366.jpg', '/content/drive/MyDrive/task3-test（347p)/X51005442343.jpg', '/content/drive/MyDrive/task3-test（347p)/X51005442388.jpg', '/content/drive/MyDrive/task3-test（347p)/X51005442382.jpg', '/content/drive/MyDrive/task3-test（347p)/X51005442375.jpg', '/content/drive/MyDrive/task3-test（347p)/X51005444040.jpg', '/content/drive/MyDrive/task3-test（347p)/X51005444041.jpg', '/content/drive/MyDrive/task3-test（347p)/X51005444046.jpg', '/content/drive/MyDrive/task3-test（347p)/X51006414532.jpg', '/content/drive/MyDrive/task3-test（347p)/X51005447844.jpg', '/content/drive/MyDrive/task3-test（347p)/X51005447842.jpg', '/content/drive/MyDrive/task3-test（347p)/X51005447841.jpg', '/content/drive/MyDrive/task3-test（347p)/X51005447859.jpg', '/content/drive/MyDrive/task3-test（347p)/X51005447851.jpg', '/content/drive/MyDrive/task3-test（347p)/X51005444044.jpg', '/content/drive/MyDrive/task3-test（347p)/X51005568855.jpg', '/content/drive/MyDrive/task3-test（347p)/X51006414593.jpg', '/content/drive/MyDrive/task3-test（347p)/X51005568866.jpg', '/content/drive/MyDrive/task3-test（347p)/X51005568885.jpg', '/content/drive/MyDrive/task3-test（347p)/X51005568887.jpg', '/content/drive/MyDrive/task3-test（347p)/X51005568889.jpg', '/content/drive/MyDrive/task3-test（347p)/X51005568890.jpg', '/content/drive/MyDrive/task3-test（347p)/X51005568892.jpg', '/content/drive/MyDrive/task3-test（347p)/X51005568894.jpg', '/content/drive/MyDrive/task3-test（347p)/X51005568895.jpg', '/content/drive/MyDrive/task3-test（347p)/X51006414600.jpg', '/content/drive/MyDrive/task3-test（347p)/X51005582745.jpg', '/content/drive/MyDrive/task3-test（347p)/X51005577191.jpg', '/content/drive/MyDrive/task3-test（347p)/X51005605287.jpg', '/content/drive/MyDrive/task3-test（347p)/X51005605295.jpg', '/content/drive/MyDrive/task3-test（347p)/X51006414702.jpg', '/content/drive/MyDrive/task3-test（347p)/X51005621482.jpg', '/content/drive/MyDrive/task3-test（347p)/X51005663274.jpg', '/content/drive/MyDrive/task3-test（347p)/X51005663300.jpg', '/content/drive/MyDrive/task3-test（347p)/X51005663307.jpg', '/content/drive/MyDrive/task3-test（347p)/X51005663309.jpg', '/content/drive/MyDrive/task3-test（347p)/X51005663310.jpg', '/content/drive/MyDrive/task3-test（347p)/X51006414708.jpg', '/content/drive/MyDrive/task3-test（347p)/X51005587261.jpg', '/content/drive/MyDrive/task3-test（347p)/X51005605332.jpg', '/content/drive/MyDrive/task3-test（347p)/X51005663323.jpg', '/content/drive/MyDrive/task3-test（347p)/X51005675099.jpg', '/content/drive/MyDrive/task3-test（347p)/X51006414715.jpg', '/content/drive/MyDrive/task3-test（347p)/X51005675103.jpg', '/content/drive/MyDrive/task3-test（347p)/X51005675104.jpg', '/content/drive/MyDrive/task3-test（347p)/X51005676534.jpg', '/content/drive/MyDrive/task3-test（347p)/X51005676535.jpg', '/content/drive/MyDrive/task3-test（347p)/X51005676537.jpg', '/content/drive/MyDrive/task3-test（347p)/X51005676542.jpg', '/content/drive/MyDrive/task3-test（347p)/X51005676548.jpg', '/content/drive/MyDrive/task3-test（347p)/X51006414717.jpg', '/content/drive/MyDrive/task3-test（347p)/X51005675914.jpg', '/content/drive/MyDrive/task3-test（347p)/X51005677327.jpg', '/content/drive/MyDrive/task3-test（347p)/X51005677333.jpg', '/content/drive/MyDrive/task3-test（347p)/X51005677336.jpg', '/content/drive/MyDrive/task3-test（347p)/X51006414728.jpg', '/content/drive/MyDrive/task3-test（347p)/X51005677337.jpg', '/content/drive/MyDrive/task3-test（347p)/X51005710963.jpg', '/content/drive/MyDrive/task3-test（347p)/X51005684949.jpg', '/content/drive/MyDrive/task3-test（347p)/X510056849111.jpg', '/content/drive/MyDrive/task3-test（347p)/X51005705727.jpg', '/content/drive/MyDrive/task3-test（347p)/X51005705729.jpg', '/content/drive/MyDrive/task3-test（347p)/X51006912959.jpg', '/content/drive/MyDrive/task3-test（347p)/X51005705784.jpg', '/content/drive/MyDrive/task3-test（347p)/X51005711402.jpg', '/content/drive/MyDrive/task3-test（347p)/X51005711443.jpg', '/content/drive/MyDrive/task3-test（347p)/X51005711444.jpg', '/content/drive/MyDrive/task3-test（347p)/X51005711446.jpg', '/content/drive/MyDrive/task3-test（347p)/X51005711449.jpg', '/content/drive/MyDrive/task3-test（347p)/X51006912976.jpg', '/content/drive/MyDrive/task3-test（347p)/X51005715007.jpg', '/content/drive/MyDrive/task3-test（347p)/X51005715455.jpg', '/content/drive/MyDrive/task3-test（347p)/X51005719823.jpg', '/content/drive/MyDrive/task3-test（347p)/X51005719855.jpg', '/content/drive/MyDrive/task3-test（347p)/X51005719857.jpg', '/content/drive/MyDrive/task3-test（347p)/X51006912998.jpg', '/content/drive/MyDrive/task3-test（347p)/X51005719863.jpg', '/content/drive/MyDrive/task3-test（347p)/X51005719888.jpg', '/content/drive/MyDrive/task3-test（347p)/X51005719889.jpg', '/content/drive/MyDrive/task3-test（347p)/X51005719895.jpg', '/content/drive/MyDrive/task3-test（347p)/X51005719898.jpg', '/content/drive/MyDrive/task3-test（347p)/X51005719903.jpg', '/content/drive/MyDrive/task3-test（347p)/X51005719905.jpg', '/content/drive/MyDrive/task3-test（347p)/X51005724552.jpg', '/content/drive/MyDrive/task3-test（347p)/X51005724611.jpg', '/content/drive/MyDrive/task3-test（347p)/X51005724622.jpg', '/content/drive/MyDrive/task3-test（347p)/X51006913018.jpg', '/content/drive/MyDrive/task3-test（347p)/X51005724623.jpg', '/content/drive/MyDrive/task3-test（347p)/X51005724624.jpg', '/content/drive/MyDrive/task3-test（347p)/X51005724625.jpg', '/content/drive/MyDrive/task3-test（347p)/X51005724626.jpg', '/content/drive/MyDrive/task3-test（347p)/X51005724628.jpg', '/content/drive/MyDrive/task3-test（347p)/X51005741929.jpg', '/content/drive/MyDrive/task3-test（347p)/X51006913032.jpg', '/content/drive/MyDrive/task3-test（347p)/X51005742110.jpg', '/content/drive/MyDrive/task3-test（347p)/X51005745244.jpg', '/content/drive/MyDrive/task3-test（347p)/X51005745213.jpg', '/content/drive/MyDrive/task3-test（347p)/X51005745298.jpg', '/content/drive/MyDrive/task3-test（347p)/X51006913060.jpg', '/content/drive/MyDrive/task3-test（347p)/X51005746204.jpg', '/content/drive/MyDrive/task3-test（347p)/X51005746206.jpg', '/content/drive/MyDrive/task3-test（347p)/X51005749904.jpg', '/content/drive/MyDrive/task3-test（347p)/X51005757233.jpg', '/content/drive/MyDrive/task3-test（347p)/X51006913061.jpg', '/content/drive/MyDrive/task3-test（347p)/X51005757282.jpg', '/content/drive/MyDrive/task3-test（347p)/X51005757292.jpg', '/content/drive/MyDrive/task3-test（347p)/X51005746203.jpg', '/content/drive/MyDrive/task3-test（347p)/X51005746207.jpg', '/content/drive/MyDrive/task3-test（347p)/X51007231364.jpg', '/content/drive/MyDrive/task3-test（347p)/X51005746210.jpg', '/content/drive/MyDrive/task3-test（347p)/X51005757308.jpg', '/content/drive/MyDrive/task3-test（347p)/X51007231372.jpg', '/content/drive/MyDrive/task3-test（347p)/X51005757342.jpg', '/content/drive/MyDrive/task3-test（347p)/X51005763958.jpg', '/content/drive/MyDrive/task3-test（347p)/X51005763964.jpg', '/content/drive/MyDrive/task3-test（347p)/X51005764031.jpg', '/content/drive/MyDrive/task3-test（347p)/X51005764154.jpg', '/content/drive/MyDrive/task3-test（347p)/X51007433809.jpg', '/content/drive/MyDrive/task3-test（347p)/X51005764161.jpg', '/content/drive/MyDrive/task3-test（347p)/X51005806696.jpg', '/content/drive/MyDrive/task3-test（347p)/X51005763999.jpg', '/content/drive/MyDrive/task3-test（347p)/X51005806695.jpg', '/content/drive/MyDrive/task3-test（347p)/X51007846266.jpg', '/content/drive/MyDrive/task3-test（347p)/X51005806692.jpg', '/content/drive/MyDrive/task3-test（347p)/X51006008081.jpg', '/content/drive/MyDrive/task3-test（347p)/X51007846268.jpg', '/content/drive/MyDrive/task3-test（347p)/X51006008083.jpg', '/content/drive/MyDrive/task3-test（347p)/X51006008093.jpg', '/content/drive/MyDrive/task3-test（347p)/X51005806718.jpg', '/content/drive/MyDrive/task3-test（347p)/X51005806719.jpg', '/content/drive/MyDrive/task3-test（347p)/X51007846282.jpg', '/content/drive/MyDrive/task3-test（347p)/X51005806720.jpg', '/content/drive/MyDrive/task3-test（347p)/X51006008082.jpg', '/content/drive/MyDrive/task3-test（347p)/X51006008090.jpg', '/content/drive/MyDrive/task3-test（347p)/X51006008092.jpg', '/content/drive/MyDrive/task3-test（347p)/X51006008105.jpg', '/content/drive/MyDrive/task3-test（347p)/X51007846283.jpg', '/content/drive/MyDrive/task3-test（347p)/X51006008166.jpg', '/content/drive/MyDrive/task3-test（347p)/X51006008206.jpg', '/content/drive/MyDrive/task3-test（347p)/X51006248253.jpg', '/content/drive/MyDrive/task3-test（347p)/X51006327953.jpg', '/content/drive/MyDrive/task3-test（347p)/X51006327960.jpg', '/content/drive/MyDrive/task3-test（347p)/X51007846288.jpg', '/content/drive/MyDrive/task3-test（347p)/X51006328345.jpg', '/content/drive/MyDrive/task3-test（347p)/X51006328937.jpg', '/content/drive/MyDrive/task3-test（347p)/X51006328967.jpg', '/content/drive/MyDrive/task3-test（347p)/X51006329183.jpg', '/content/drive/MyDrive/task3-test（347p)/X51006311714.jpg', '/content/drive/MyDrive/task3-test（347p)/X51007846289.jpg', '/content/drive/MyDrive/task3-test（347p)/X51006329388.jpg', '/content/drive/MyDrive/task3-test（347p)/X51006332641.jpg', '/content/drive/MyDrive/task3-test（347p)/X51006334139.jpg', '/content/drive/MyDrive/task3-test（347p)/X51006334742.jpg', '/content/drive/MyDrive/task3-test（347p)/X51006334766.jpg', '/content/drive/MyDrive/task3-test（347p)/X51006334770.jpg', '/content/drive/MyDrive/task3-test（347p)/X51006334819.jpg', '/content/drive/MyDrive/task3-test（347p)/X51006334927.jpg', '/content/drive/MyDrive/task3-test（347p)/X51007846290.jpg', '/content/drive/MyDrive/task3-test（347p)/X51006335818.jpg', '/content/drive/MyDrive/task3-test（347p)/X51006349081.jpg', '/content/drive/MyDrive/task3-test（347p)/X51006349083.jpg', '/content/drive/MyDrive/task3-test（347p)/X51006349085.jpg', '/content/drive/MyDrive/task3-test（347p)/X51006350737.jpg', '/content/drive/MyDrive/task3-test（347p)/X51006387660.jpg', '/content/drive/MyDrive/task3-test（347p)/X51006387737.jpg', '/content/drive/MyDrive/task3-test（347p)/X51007846303.jpg', '/content/drive/MyDrive/task3-test（347p)/X51006387931.jpg', '/content/drive/MyDrive/task3-test（347p)/X51006387950.jpg', '/content/drive/MyDrive/task3-test（347p)/X51006388068.jpg', '/content/drive/MyDrive/task3-test（347p)/X51006388081.jpg', '/content/drive/MyDrive/task3-test（347p)/X51006387973.jpg', '/content/drive/MyDrive/task3-test（347p)/X51007846304.jpg', '/content/drive/MyDrive/task3-test（347p)/X51006388089.jpg', '/content/drive/MyDrive/task3-test（347p)/X51006389894.jpg', '/content/drive/MyDrive/task3-test（347p)/X51006389898.jpg', '/content/drive/MyDrive/task3-test（347p)/X51006392167.jpg', '/content/drive/MyDrive/task3-test（347p)/X51006401845.jpg', '/content/drive/MyDrive/task3-test（347p)/X51006401853.jpg', '/content/drive/MyDrive/task3-test（347p)/X51006401977.jpg', '/content/drive/MyDrive/task3-test（347p)/X51006438346.jpg', '/content/drive/MyDrive/task3-test（347p)/X51007846310.jpg', '/content/drive/MyDrive/task3-test（347p)/X51006466070.jpg', '/content/drive/MyDrive/task3-test（347p)/X51006502534.jpg', '/content/drive/MyDrive/task3-test（347p)/X51006502540.jpg', '/content/drive/MyDrive/task3-test（347p)/X51006554841.jpg', '/content/drive/MyDrive/task3-test（347p)/X51006555819.jpg', '/content/drive/MyDrive/task3-test（347p)/X51007846321.jpg', '/content/drive/MyDrive/task3-test（347p)/X51006555833.jpg', '/content/drive/MyDrive/task3-test（347p)/X51006555835.jpg', '/content/drive/MyDrive/task3-test（347p)/X51006556610.jpg', '/content/drive/MyDrive/task3-test（347p)/X51006556648.jpg', '/content/drive/MyDrive/task3-test（347p)/X51006556654.jpg', '/content/drive/MyDrive/task3-test（347p)/X51006556657.jpg', '/content/drive/MyDrive/task3-test（347p)/X51006556658.jpg', '/content/drive/MyDrive/task3-test（347p)/X51006556723.jpg', '/content/drive/MyDrive/task3-test（347p)/X51006556728.jpg', '/content/drive/MyDrive/task3-test（347p)/X51007846355.jpg', '/content/drive/MyDrive/task3-test（347p)/X51006556734.jpg', '/content/drive/MyDrive/task3-test（347p)/X51006556740.jpg', '/content/drive/MyDrive/task3-test（347p)/X51006556806.jpg', '/content/drive/MyDrive/task3-test（347p)/X51006556808.jpg', '/content/drive/MyDrive/task3-test（347p)/X51006556809.jpg', '/content/drive/MyDrive/task3-test（347p)/X51006556810.jpg', '/content/drive/MyDrive/task3-test（347p)/X51006556812.jpg', '/content/drive/MyDrive/task3-test（347p)/X51006556821.jpg', '/content/drive/MyDrive/task3-test（347p)/X51006556826.jpg', '/content/drive/MyDrive/task3-test（347p)/X51006556829.jpg', '/content/drive/MyDrive/task3-test（347p)/X51007846358.jpg', '/content/drive/MyDrive/task3-test（347p)/X51006556827.jpg', '/content/drive/MyDrive/task3-test（347p)/X51006556851.jpg', '/content/drive/MyDrive/task3-test（347p)/X51006556865.jpg', '/content/drive/MyDrive/task3-test（347p)/X51006557115.jpg', '/content/drive/MyDrive/task3-test（347p)/X51006557169.jpg', '/content/drive/MyDrive/task3-test（347p)/X51006557173.jpg', '/content/drive/MyDrive/task3-test（347p)/X51006557187.jpg', '/content/drive/MyDrive/task3-test（347p)/X51006557194.jpg', '/content/drive/MyDrive/task3-test（347p)/X51007846360.jpg', '/content/drive/MyDrive/task3-test（347p)/X51006557196.jpg', '/content/drive/MyDrive/task3-test（347p)/X51006557208.jpg', '/content/drive/MyDrive/task3-test（347p)/X51006557209.jpg', '/content/drive/MyDrive/task3-test（347p)/X51006557507.jpg', '/content/drive/MyDrive/task3-test（347p)/X51007846361.jpg', '/content/drive/MyDrive/task3-test（347p)/X51006619328.jpg', '/content/drive/MyDrive/task3-test（347p)/X51006619346.jpg', '/content/drive/MyDrive/task3-test（347p)/X51006619338.jpg', '/content/drive/MyDrive/task3-test（347p)/X51006619503.jpg', '/content/drive/MyDrive/task3-test（347p)/X51006619506.jpg', '/content/drive/MyDrive/task3-test（347p)/X51006619507.jpg', '/content/drive/MyDrive/task3-test（347p)/X51006619509.jpg', '/content/drive/MyDrive/task3-test（347p)/X51006619564.jpg', '/content/drive/MyDrive/task3-test（347p)/X51006619567.jpg', '/content/drive/MyDrive/task3-test（347p)/X51007846371.jpg', '/content/drive/MyDrive/task3-test（347p)/X51006619569.jpg', '/content/drive/MyDrive/task3-test（347p)/X51006619570.jpg', '/content/drive/MyDrive/task3-test（347p)/X51006619700.jpg', '/content/drive/MyDrive/task3-test（347p)/X51006619703.jpg', '/content/drive/MyDrive/task3-test（347p)/X51006619704.jpg', '/content/drive/MyDrive/task3-test（347p)/X51006619757.jpg', '/content/drive/MyDrive/task3-test（347p)/X51006619760.jpg', '/content/drive/MyDrive/task3-test（347p)/X51007846372.jpg', '/content/drive/MyDrive/task3-test（347p)/X51006619764.jpg', '/content/drive/MyDrive/task3-test（347p)/X51006619766.jpg', '/content/drive/MyDrive/task3-test（347p)/X51006619779.jpg', '/content/drive/MyDrive/task3-test（347p)/X51006619784.jpg', '/content/drive/MyDrive/task3-test（347p)/X51006619790.jpg', '/content/drive/MyDrive/task3-test（347p)/X51006619842.jpg', '/content/drive/MyDrive/task3-test（347p)/X51006619863.jpg', '/content/drive/MyDrive/task3-test（347p)/X51006619869.jpg', '/content/drive/MyDrive/task3-test（347p)/X51006620175.jpg', '/content/drive/MyDrive/task3-test（347p)/X51006620182.jpg', '/content/drive/MyDrive/task3-test（347p)/X51007846379.jpg', '/content/drive/MyDrive/task3-test（347p)/X51006620192.jpg', '/content/drive/MyDrive/task3-test（347p)/X51006620437.jpg', '/content/drive/MyDrive/task3-test（347p)/X51006647933.jpg', '/content/drive/MyDrive/task3-test（347p)/X51006647984.jpg', '/content/drive/MyDrive/task3-test（347p)/X51006733495.jpg', '/content/drive/MyDrive/task3-test（347p)/X51006828199.jpg', '/content/drive/MyDrive/task3-test（347p)/X51006828200.jpg', '/content/drive/MyDrive/task3-test（347p)/X51006828201.jpg', '/content/drive/MyDrive/task3-test（347p)/X51007846387.jpg', '/content/drive/MyDrive/task3-test（347p)/X51006856982.jpg', '/content/drive/MyDrive/task3-test（347p)/X51006857126.jpg', '/content/drive/MyDrive/task3-test（347p)/X51006857137.jpg', '/content/drive/MyDrive/task3-test（347p)/X51006857132.jpg', '/content/drive/MyDrive/task3-test（347p)/X51007846392.jpg', '/content/drive/MyDrive/task3-test（347p)/X51006857540.jpg', '/content/drive/MyDrive/task3-test（347p)/X51007103597.jpg', '/content/drive/MyDrive/task3-test（347p)/X51007103610.jpg', '/content/drive/MyDrive/task3-test（347p)/X51007225406.jpg', '/content/drive/MyDrive/task3-test（347p)/X51007103649.jpg', '/content/drive/MyDrive/task3-test（347p)/X51007846396.jpg', '/content/drive/MyDrive/task3-test（347p)/X51007231274.jpg', '/content/drive/MyDrive/task3-test（347p)/X51007103668.jpg', '/content/drive/MyDrive/task3-test（347p)/X51007103687.jpg', '/content/drive/MyDrive/task3-test（347p)/X51007846397.jpg', '/content/drive/MyDrive/task3-test（347p)/X51007231276.jpg', '/content/drive/MyDrive/task3-test（347p)/X51007339109.jpg', '/content/drive/MyDrive/task3-test（347p)/X51007846400.jpg', '/content/drive/MyDrive/task3-test（347p)/X51007339116.jpg', '/content/drive/MyDrive/task3-test（347p)/X51007231346.jpg', '/content/drive/MyDrive/task3-test（347p)/X51007339105.jpg', '/content/drive/MyDrive/task3-test（347p)/X51007231343.jpg', '/content/drive/MyDrive/task3-test（347p)/X51007846403.jpg', '/content/drive/MyDrive/task3-test（347p)/X51007339119.jpg', '/content/drive/MyDrive/task3-test（347p)/X51007231331.jpg', '/content/drive/MyDrive/task3-test（347p)/X51007231275.jpg', '/content/drive/MyDrive/task3-test（347p)/X51007231341.jpg', '/content/drive/MyDrive/task3-test（347p)/X51007339134.jpg', '/content/drive/MyDrive/task3-test（347p)/X51007339121.jpg', '/content/drive/MyDrive/task3-test（347p)/X51007339160.jpg', '/content/drive/MyDrive/task3-test（347p)/X51007339638.jpg', '/content/drive/MyDrive/task3-test（347p)/X51007339125.jpg', '/content/drive/MyDrive/task3-test（347p)/X51007339159.jpg', '/content/drive/MyDrive/task3-test（347p)/X51007339161.jpg', '/content/drive/MyDrive/task3-test（347p)/X51007339122.jpg', '/content/drive/MyDrive/task3-test（347p)/X51007339127.jpg', '/content/drive/MyDrive/task3-test（347p)/X51007339163.jpg', '/content/drive/MyDrive/task3-test（347p)/X51007579719.jpg', '/content/drive/MyDrive/task3-test（347p)/X51007579725.jpg', '/content/drive/MyDrive/task3-test（347p)/X51008042780.jpg', '/content/drive/MyDrive/task3-test（347p)/X51008042779.jpg', '/content/drive/MyDrive/task3-test（347p)/X51008042781.jpg', '/content/drive/MyDrive/task3-test（347p)/X51008030561.jpg', '/content/drive/MyDrive/task3-test（347p)/X51008042786.jpg', '/content/drive/MyDrive/task3-test（347p)/X51007579714.jpg', '/content/drive/MyDrive/task3-test（347p)/X51008030563.jpg', '/content/drive/MyDrive/task3-test（347p)/X51007391390.jpg', '/content/drive/MyDrive/task3-test（347p)/X51008099090.jpg', '/content/drive/MyDrive/task3-test（347p)/X51008099088.jpg', '/content/drive/MyDrive/task3-test（347p)/X51009568881.jpg', '/content/drive/MyDrive/task3-test（347p)/X51008099047.jpg', '/content/drive/MyDrive/task3-test（347p)/X51009453729.jpg', '/content/drive/MyDrive/task3-test（347p)/X51008099100.jpg', '/content/drive/MyDrive/task3-test（347p)/X51008099086.jpg', '/content/drive/MyDrive/task3-test（347p)/X51009008095.jpg', '/content/drive/MyDrive/task3-test（347p)/X51008042787.jpg', '/content/drive/MyDrive/task3-test（347p)/X51009447842.jpg']\n"
          ],
          "name": "stdout"
        }
      ]
    },
    {
      "cell_type": "code",
      "metadata": {
        "id": "5ZBwqtOKcJxl"
      },
      "source": [
        "# to get the organisation names from all the invoice, use the API from NANONETS which can provide us with that data\r\n",
        "# After seeing the output through response.text, get the required output by taking string as dictionary"
      ],
      "execution_count": null,
      "outputs": []
    },
    {
      "cell_type": "code",
      "metadata": {
        "id": "uAQbCl0rckgX"
      },
      "source": [
        "orgNames =[]\r\n",
        "for path in range(len(filename)):\r\n",
        "  url = 'https://app.nanonets.com/api/v2/OCR/Model/90ac2fbe-8616-4eea-9414-e694602f8196/LabelFile/'\r\n",
        "  data = {'file': open(filename[path], 'rb')}\r\n",
        "  response = requests.post(url, auth=requests.auth.HTTPBasicAuth('0Ior9l4utyy3bs6FmQZOGqqD3uua-FUy', ''), files=data)\r\n",
        "  a = eval(response.text)\r\n",
        "  orgNames.append(a['result'][0]['prediction'][0]['ocr_text'])"
      ],
      "execution_count": null,
      "outputs": []
    },
    {
      "cell_type": "code",
      "metadata": {
        "id": "QVCWht9ac7pJ"
      },
      "source": [
        "#Copy the organisation names list to an another list so that trials on testing may not reduce our trials on API"
      ],
      "execution_count": null,
      "outputs": []
    },
    {
      "cell_type": "code",
      "metadata": {
        "id": "7Szr_12l5gYa"
      },
      "source": [
        "orgnames_copy = orgNames"
      ],
      "execution_count": null,
      "outputs": []
    },
    {
      "cell_type": "code",
      "metadata": {
        "colab": {
          "base_uri": "https://localhost:8080/"
        },
        "id": "Q6tC-AkoiduW",
        "outputId": "781d64c0-33a9-4e85-f2d1-0abf6ed98a2b"
      },
      "source": [
        "for x in range(len(orgnames_copy)):\r\n",
        "  print(orgnames_copy[x])"
      ],
      "execution_count": null,
      "outputs": [
        {
          "output_type": "stream",
          "text": [
            "COPY\n",
            "OJC MARKETING SDN BHD\n",
            "OJC MARKETING SDN BHD\n",
            "PERNIAGAAN ZHENG HUI\n",
            "PETRON BKT LANJAN SB\n",
            "ENTERPRISE\n",
            "Gerbang Alaf Restaurants Sdn Bhd\n",
            "TED HENG STATIONEMAA 2013 8 BOOKS\n",
            "SIN LIANHAP SDN BHD\n",
            "BHD\n",
            "CROSS CHANNEL NETWORK SDN. BHD.\n",
            "CROSS CHANNEL NE WORK SDN. BHD.\n",
            "SWC ENTERPRISE SDN BHD\n"
          ],
          "name": "stdout"
        }
      ]
    },
    {
      "cell_type": "code",
      "metadata": {
        "id": "Q91YZYdYxiHm"
      },
      "source": [
        "#OCR may not be 100% correct, so to eliminate extra images , rather than simply cheching them by == , we'll do it by similarity ratio."
      ],
      "execution_count": null,
      "outputs": []
    },
    {
      "cell_type": "code",
      "metadata": {
        "id": "Fr-JcNvDzXkI"
      },
      "source": [
        "import difflib"
      ],
      "execution_count": null,
      "outputs": []
    },
    {
      "cell_type": "code",
      "metadata": {
        "id": "24S1lvXZdcvG"
      },
      "source": [
        "#check the duplicacy among all the org. names by iterating over all through nested loops and simply pop it from orgnames to remove them from organames_copy list\r\n",
        "#and to remove them from file itself , pop them from filenames itself."
      ],
      "execution_count": null,
      "outputs": []
    },
    {
      "cell_type": "code",
      "metadata": {
        "colab": {
          "base_uri": "https://localhost:8080/"
        },
        "id": "xkRh5lyS0oW2",
        "outputId": "9e84d0c2-ccfc-4d8b-f23a-7ed06c41fabd"
      },
      "source": [
        "for i in range(0,len(orgnames_copy)-1):\r\n",
        "  for j in range(i+1,len(orgnames_copy)-1):\r\n",
        "    if difflib.SequenceMatcher(None, orgnames_copy[i],orgnames_copy[j]).ratio()>0.85:\r\n",
        "      orgnames_copy.pop(j)\r\n",
        "      filename.pop(j)\r\n",
        "print(orgnames_copy)\r\n",
        "    "
      ],
      "execution_count": null,
      "outputs": [
        {
          "output_type": "stream",
          "text": [
            "['COPY\\nOJC MARKETING SDN BHD', 'PERNIAGAAN ZHENG HUI', 'PETRON BKT LANJAN SB\\nENTERPRISE', 'Gerbang Alaf Restaurants Sdn Bhd', 'TED HENG STATIONEMAA 2013 8 BOOKS', 'SIN LIANHAP SDN BHD\\nBHD', 'CROSS CHANNEL NETWORK SDN. BHD.', 'SWC ENTERPRISE SDN BHD']\n"
          ],
          "name": "stdout"
        }
      ]
    },
    {
      "cell_type": "code",
      "metadata": {
        "id": "KluQqtOA5X1J"
      },
      "source": [
        ""
      ],
      "execution_count": null,
      "outputs": []
    }
  ]
}